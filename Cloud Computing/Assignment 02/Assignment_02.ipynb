{
 "cells": [
  {
   "cell_type": "code",
   "execution_count": 10,
   "metadata": {
    "collapsed": true,
    "ExecuteTime": {
     "end_time": "2024-04-18T19:01:20.729601700Z",
     "start_time": "2024-04-18T19:01:20.411907800Z"
    }
   },
   "outputs": [
    {
     "name": "stdout",
     "output_type": "stream",
     "text": [
      "Summary statistics for Harry Potter series:\n",
      "           book_id  goodreads_book_id   best_book_id       work_id  \\\n",
      "count    11.000000          11.000000      11.000000  1.100000e+01   \n",
      "mean   1852.818182      136331.545455  136331.545455  8.812941e+06   \n",
      "std    3280.589301      281283.684187  281283.684187  1.220706e+07   \n",
      "min       2.000000           1.000000       1.000000  4.717920e+05   \n",
      "25%      22.000000           4.000000       4.000000  2.885848e+06   \n",
      "50%      25.000000          10.000000      10.000000  3.046572e+06   \n",
      "75%    2087.500000       76066.000000   76066.000000  7.426560e+06   \n",
      "max    9048.000000      862041.000000  862041.000000  4.133543e+07   \n",
      "\n",
      "       books_count        isbn13  original_publication_year  average_rating  \\\n",
      "count    11.000000  1.100000e+01                  11.000000       11.000000   \n",
      "mean    233.727273  9.780457e+12                2001.272727        4.482727   \n",
      "std     172.283540  4.355258e+07                   3.319365        0.211286   \n",
      "min       5.000000  9.780425e+12                1997.000000        3.960000   \n",
      "25%      59.000000  9.780439e+12                1998.500000        4.420000   \n",
      "50%     275.000000  9.780440e+12                2001.000000        4.530000   \n",
      "75%     354.000000  9.780440e+12                2004.000000        4.575000   \n",
      "max     491.000000  9.780545e+12                2007.000000        4.740000   \n",
      "\n",
      "       ratings_count  work_ratings_count  work_text_reviews_count  \\\n",
      "count   1.100000e+01        1.100000e+01                11.000000   \n",
      "mean    1.397060e+06        1.479561e+06             26655.545455   \n",
      "std     1.350155e+06        1.414079e+06             23871.676696   \n",
      "min     1.073600e+04        1.173200e+04               185.000000   \n",
      "25%     1.073340e+05        1.151995e+05              3695.000000   \n",
      "50%     1.735368e+06        1.840548e+06             28685.000000   \n",
      "75%     1.766187e+06        1.887420e+06             35135.500000   \n",
      "max     4.602479e+06        4.800065e+06             75867.000000   \n",
      "\n",
      "          ratings_1      ratings_2      ratings_3     ratings_4     ratings_5  \n",
      "count     11.000000      11.000000      11.000000  1.100000e+01  1.100000e+01  \n",
      "mean   11371.909091   23889.818182  132613.818182  3.715519e+05  9.401340e+05  \n",
      "std    21608.686459   29373.903686  136751.342461  3.503036e+05  8.884497e+05  \n",
      "min      106.000000     186.000000     946.000000  2.595000e+03  6.332000e+03  \n",
      "25%      717.000000    1205.000000    5393.000000  1.727850e+04  9.254850e+04  \n",
      "50%     6716.000000   20413.000000  136333.000000  4.590280e+05  1.124806e+06  \n",
      "75%     8808.000000   26911.000000  173169.500000  5.021865e+05  1.230858e+06  \n",
      "max    75504.000000  101676.000000  455024.000000  1.156318e+06  3.011543e+06  \n",
      "\n",
      "Average rating of Harry Potter books: 4.482727272727273\n",
      "\n",
      "Number of ratings for each Harry Potter book:\n",
      "                                                  title  ratings_count\n",
      "1     Harry Potter and the Sorcerer's Stone (Harry P...        4602479\n",
      "6     Harry Potter and the Prisoner of Azkaban (Harr...        1832823\n",
      "8     Harry Potter and the Order of the Phoenix (Har...        1735368\n",
      "9     Harry Potter and the Chamber of Secrets (Harry...        1779331\n",
      "10    Harry Potter and the Goblet of Fire (Harry Pot...        1753043\n",
      "11    Harry Potter and the Deathly Hallows (Harry Po...        1746574\n",
      "12    Harry Potter and the Half-Blood Prince (Harry ...        1678823\n",
      "96             Harry Potter Boxset (Harry Potter, #1-7)         190050\n",
      "613        Harry Potter Collection (Harry Potter, #1-6)          24618\n",
      "1036  The Magical Worlds of Harry Potter: A Treasury...          13820\n",
      "1266  Harry Potter Schoolbooks Box Set: Two Classic ...          10736\n",
      "\n",
      "Top selling Harry Potter books:\n",
      "                                                title  ratings_count\n",
      "1   Harry Potter and the Sorcerer's Stone (Harry P...        4602479\n",
      "6   Harry Potter and the Prisoner of Azkaban (Harr...        1832823\n",
      "9   Harry Potter and the Chamber of Secrets (Harry...        1779331\n",
      "10  Harry Potter and the Goblet of Fire (Harry Pot...        1753043\n",
      "11  Harry Potter and the Deathly Hallows (Harry Po...        1746574\n"
     ]
    },
    {
     "data": {
      "text/plain": "<Figure size 640x480 with 1 Axes>",
      "image/png": "[encoded data removed]"
     },
     "metadata": {},
     "output_type": "display_data"
    }
   ],
   "source": [
    "import pandas as pd\n",
    "\n",
    "# Load the dataset\n",
    "df = pd.read_csv('books.csv')\n",
    "\n",
    "# Data Cleaning and Preprocessing\n",
    "# Filter rows related to Harry Potter series\n",
    "harry_potter_df = df[df['title'].str.contains('Harry Potter')]\n",
    "\n",
    "# Analysis\n",
    "# Summary statistics\n",
    "print(\"Summary statistics for Harry Potter series:\")\n",
    "print(harry_potter_df.describe())\n",
    "\n",
    "# Average rating of Harry Potter books\n",
    "average_rating_hp = harry_potter_df['average_rating'].mean()\n",
    "print(\"\\nAverage rating of Harry Potter books:\", average_rating_hp)\n",
    "\n",
    "# Number of ratings for each Harry Potter book\n",
    "print(\"\\nNumber of ratings for each Harry Potter book:\")\n",
    "print(harry_potter_df[['title', 'ratings_count']])\n",
    "\n",
    "# Sort books by ratings_count to find the most selling books\n",
    "most_selling_hp_books = harry_potter_df.sort_values(by='ratings_count', ascending=False)\n",
    "\n",
    "# Display top-selling books\n",
    "print(\"\\nTop selling Harry Potter books:\")\n",
    "print(most_selling_hp_books[['title', 'ratings_count']].head())\n",
    "\n",
    "\n",
    "# Visualizations\n",
    "# Histogram of ratings distribution for Harry Potter books\n",
    "import matplotlib.pyplot as plt\n",
    "\n",
    "plt.hist(harry_potter_df['average_rating'], bins=10, color='skyblue', edgecolor='black')\n",
    "plt.title('Distribution of Ratings for Harry Potter Books')\n",
    "plt.xlabel('Rating')\n",
    "plt.ylabel('Frequency')\n",
    "plt.grid(True)\n",
    "plt.show()\n"
   ]
  },
  {
   "cell_type": "code",
   "execution_count": null,
   "outputs": [],
   "source": [],
   "metadata": {
    "collapsed": false
   }
  }
 ],
 "metadata": {
  "kernelspec": {
   "display_name": "Python 3",
   "language": "python",
   "name": "python3"
  },
  "language_info": {
   "codemirror_mode": {
    "name": "ipython",
    "version": 2
   },
   "file_extension": ".py",
   "mimetype": "text/x-python",
   "name": "python",
   "nbconvert_exporter": "python",
   "pygments_lexer": "ipython2",
   "version": "2.7.6"
  }
 },
 "nbformat": 4,
 "nbformat_minor": 0
}
